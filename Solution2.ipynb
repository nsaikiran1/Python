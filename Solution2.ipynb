{
 "cells": [
  {
   "cell_type": "code",
   "execution_count": 2,
   "id": "d5ea155d",
   "metadata": {},
   "outputs": [
    {
     "name": "stdout",
     "output_type": "stream",
     "text": [
      "x = 10\n",
      "y = 5\n"
     ]
    }
   ],
   "source": [
    "#Swap two numbers\n",
    "x = 5\n",
    "y = 10\n",
    "\n",
    "x, y = y, x\n",
    "print(\"x =\", x)\n",
    "print(\"y =\", y)"
   ]
  },
  {
   "cell_type": "code",
   "execution_count": 3,
   "id": "1b3e8672",
   "metadata": {},
   "outputs": [
    {
     "name": "stdout",
     "output_type": "stream",
     "text": [
      "Enter x1: 11.2\n",
      "Enter y1: 20.5\n",
      "Enter x2: 15.2\n",
      "Enter y2: 22.6\n",
      "Distance = 4.517743\n"
     ]
    }
   ],
   "source": [
    "# Python Program to Calculate Distance \n",
    "\n",
    "# Reading co-ordinates\n",
    "x1 = float(input('Enter x1: '))\n",
    "y1 = float(input('Enter y1: '))\n",
    "x2 = float(input('Enter x2: '))\n",
    "y2 = float(input('Enter y2: '))\n",
    "\n",
    "# Calculating distance\n",
    "d = ( (x2-x1)**2 + (y2-y1)**2 ) ** 0.5\n",
    "\n",
    "# Displaying result\n",
    "print('Distance = %f' %(d))"
   ]
  },
  {
   "cell_type": "code",
   "execution_count": 8,
   "id": "74b2cb29",
   "metadata": {},
   "outputs": [
    {
     "name": "stdout",
     "output_type": "stream",
     "text": [
      "Yes\n"
     ]
    }
   ],
   "source": [
    "#X and Y coordinates\n",
    "def collinear(x1, y1, x2, y2, x3, y3):\n",
    "    a = x1 * (y2 - y3) + x2 * (y3 - y1) + x3 * (y1 - y2)\n",
    " \n",
    "    if (a == 0):\n",
    "        print (\"Yes\")\n",
    "    else:\n",
    "        print (\"No\")\n",
    " # Driver Code\n",
    "x1, x2, x3, y1, y2, y3 = 1, 1, 1, 1, 4, 5\n",
    "collinear(x1, y1, x2, y2, x3, y3)       "
   ]
  },
  {
   "cell_type": "code",
   "execution_count": 9,
   "id": "e8663673",
   "metadata": {},
   "outputs": [
    {
     "name": "stdout",
     "output_type": "stream",
     "text": [
      "No\n"
     ]
    }
   ],
   "source": [
    "#X and Y coordinates\n",
    "def collinear(x1, y1, x2, y2, x3, y3):\n",
    "    a = x1 * (y2 - y3) + x2 * (y3 - y1) + x3 * (y1 - y2)\n",
    " \n",
    "    if (a == 0):\n",
    "        print (\"Yes\")\n",
    "    else:\n",
    "        print (\"No\")\n",
    " # Driver Code\n",
    "x1, x2, x3, y1, y2, y3 = 1, 1, 2, 1, 6, 7\n",
    "collinear(x1, y1, x2, y2, x3, y3)  "
   ]
  },
  {
   "cell_type": "code",
   "execution_count": 7,
   "id": "2ff7887c",
   "metadata": {},
   "outputs": [
    {
     "name": "stdout",
     "output_type": "stream",
     "text": [
      "Enter some random first point values separated by spaces = 1 1\n",
      "Enter some random second point values separated by spaces = 1 2\n",
      "Enter some random third point values separated by spaces = 1 4\n",
      "The points ( 1 , 1 ) ( 1 , 2 ) ( 1 , 4 ) are collinear and lies on the straight line \n"
     ]
    }
   ],
   "source": [
    "# Give the three points as static input and store it in six variables.\n",
    "a1 = 1\n",
    "b1 = 1\n",
    "\n",
    "a2 = 1\n",
    "b2 = 4\n",
    "\n",
    "a3 = 1\n",
    "b3 = 5\n",
    "\n",
    "\n",
    "a1, b1 = map(int, input(\n",
    "    'Enter some random first point values separated by spaces = ').split())\n",
    "\n",
    "a2, b2 = map(int, input(\n",
    "    'Enter some random second point values separated by spaces = ').split())\n",
    "\n",
    "a3, b3 = map(int, input(\n",
    "    'Enter some random third point values separated by spaces = ').split())\n",
    "\n",
    "# To avoid floating point computations, we avoided multiplication with 0.5.\n",
    "\n",
    "point = a1 * (b2 - b3) + a2 * (b3 - b1) + a3 * (b1 - b2)\n",
    "\n",
    "# Check the above-calculated area is equal to 0 or not using the If conditional statement.\n",
    "if(point == 0):\n",
    "   \n",
    "\n",
    "    print('The points (', a1, ',', b1, ') (', a2, ',', b2, ') (', a3,\n",
    "          ',', b3, ')', 'are collinear and lies on the straight line ')\n",
    "else:\n",
    "       print('The points (', a1, ',', b1, ') (', a2, ',', b2, ') (', a3,\n",
    "          ',', b3, ')', 'are not collinear ')"
   ]
  },
  {
   "cell_type": "code",
   "execution_count": 10,
   "id": "a9f4449f",
   "metadata": {},
   "outputs": [
    {
     "name": "stdout",
     "output_type": "stream",
     "text": [
      "Input three integers(sides of a triangle)\n",
      "0 4 4\n",
      "Yes\n"
     ]
    }
   ],
   "source": [
    "print(\"Input three integers(sides of a triangle)\")\n",
    "int_num = list(map(int,input().split()))\n",
    "x,y,z = sorted(int_num)\n",
    "if x**2+y**2==z**2:\n",
    "    print('Yes')\n",
    "else:\n",
    "    print('No')"
   ]
  },
  {
   "cell_type": "code",
   "execution_count": 11,
   "id": "f49d9ecb",
   "metadata": {},
   "outputs": [
    {
     "name": "stdout",
     "output_type": "stream",
     "text": [
      "Input three integers(sides of a triangle)\n",
      "2 3 5\n",
      "No\n"
     ]
    }
   ],
   "source": [
    "print(\"Input three integers(sides of a triangle)\")\n",
    "int_num = list(map(int,input().split()))\n",
    "x,y,z = sorted(int_num)\n",
    "if x**2+y**2==z**2:\n",
    "    print('Yes')\n",
    "else:\n",
    "    print('No')"
   ]
  },
  {
   "cell_type": "code",
   "execution_count": 15,
   "id": "da4d810c",
   "metadata": {},
   "outputs": [
    {
     "name": "stdout",
     "output_type": "stream",
     "text": [
      "Please Enter the First Angle of a Triangle: 45\n",
      "Please Enter the Second Angle of a Triangle: 95\n",
      "Third Angle of a Triangle =  40.0\n"
     ]
    }
   ],
   "source": [
    "# Python Program to find Angle of a Triangle if two angles are given\n",
    "\n",
    "def triangle_angle(a, b):\n",
    "    return 180 - (a + b)\n",
    "\n",
    "a = float(input('Please Enter the First Angle of a Triangle: '))\n",
    "b = float(input('Please Enter the Second Angle of a Triangle: '))\n",
    "\n",
    "# Finding the Third Angle\n",
    "c = triangle_angle(a, b)\n",
    "print(\"Third Angle of a Triangle = \", c)"
   ]
  },
  {
   "cell_type": "code",
   "execution_count": 17,
   "id": "eeba2d5a",
   "metadata": {},
   "outputs": [
    {
     "name": "stdout",
     "output_type": "stream",
     "text": [
      "6.082762530298219\n"
     ]
    }
   ],
   "source": [
    "import math\n",
    "p1 = [4, 0]\n",
    "p2 = [5, 6]\n",
    "distance = math.sqrt( ((p1[0]-p2[0])**2)+((p1[1]-p2[1])**2) )\n",
    "\n",
    "print(distance)\n"
   ]
  },
  {
   "cell_type": "code",
   "execution_count": 19,
   "id": "c3a92851",
   "metadata": {},
   "outputs": [
    {
     "name": "stdout",
     "output_type": "stream",
     "text": [
      "31.5563\n"
     ]
    }
   ],
   "source": [
    "# find the angle between two lines joining the points and the origin.\n",
    "import math\n",
    "\n",
    "# Function to find the angle\n",
    "# between the two lines\n",
    "def calculateAngle(x1, y1, z1,\n",
    "\t\t\t\tx2, y2, z2,\n",
    "\t\t\t\tx3, y3, z3):\n",
    "\t\t\t\t\t\t\n",
    "\t# Find direction ratio of line AB\n",
    "\tABx = x1 - x2;\n",
    "\tABy = y1 - y2;\n",
    "\tABz = z1 - z2;\n",
    "\n",
    "\t# Find direction ratio of line BC\n",
    "\tBCx = x3 - x2;\n",
    "\tBCy = y3 - y2;\n",
    "\tBCz = z3 - z2;\n",
    "\n",
    "\t# Find the dotProduct\n",
    "\t# of lines AB & BC\n",
    "\tdotProduct = (ABx * BCx +\n",
    "\t\t\t\tABy * BCy +\n",
    "\t\t\t\tABz * BCz);\n",
    "\n",
    "\t# Find magnitude of\n",
    "\t# line AB and BC\n",
    "\tmagnitudeAB = (ABx * ABx +\n",
    "\t\t\t\tABy * ABy +\n",
    "\t\t\t\tABz * ABz);\n",
    "\tmagnitudeBC = (BCx * BCx +\n",
    "\t\t\t\tBCy * BCy +\n",
    "\t\t\t\tBCz * BCz);\n",
    "\n",
    "\t# Find the cosine of\n",
    "\t# the angle formed\n",
    "\t# by line AB and BC\n",
    "\tangle = dotProduct;\n",
    "\tangle /= math.sqrt(magnitudeAB *\n",
    "\t\t\t\t\tmagnitudeBC);\n",
    "\n",
    "\t# Find angle in radian\n",
    "\tangle = (angle * 180) / 3.14;\n",
    "\n",
    "\t# Print angle\n",
    "\tprint(round(abs(angle), 4))\n",
    "\n",
    "# Driver Code\n",
    "if __name__=='__main__':\n",
    "\n",
    "\t# Given coordinates\n",
    "\t# Points A\n",
    "\tx1, y1, z1 = 1, 3, 3;\n",
    "\n",
    "\t# Points B\n",
    "\tx2, y2, z2 = 3, 4, 8;\n",
    "\n",
    "\t# Points C\n",
    "\tx3, y3, z3 = 5, 10, 10;\n",
    "\n",
    "\t# Function Call\n",
    "\tcalculateAngle(x1, y1, z1,\n",
    "\t\t\t\tx2, y2, z2,\n",
    "\t\t\t\tx3, y3, z3);\n",
    "\n"
   ]
  },
  {
   "cell_type": "code",
   "execution_count": null,
   "id": "8734ff82",
   "metadata": {},
   "outputs": [],
   "source": []
  }
 ],
 "metadata": {
  "kernelspec": {
   "display_name": "Python 3 (ipykernel)",
   "language": "python",
   "name": "python3"
  },
  "language_info": {
   "codemirror_mode": {
    "name": "ipython",
    "version": 3
   },
   "file_extension": ".py",
   "mimetype": "text/x-python",
   "name": "python",
   "nbconvert_exporter": "python",
   "pygments_lexer": "ipython3",
   "version": "3.9.12"
  }
 },
 "nbformat": 4,
 "nbformat_minor": 5
}
