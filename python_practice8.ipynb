{
 "cells": [
  {
   "cell_type": "code",
   "execution_count": 13,
   "id": "2ac04fb6",
   "metadata": {},
   "outputs": [
    {
     "name": "stdout",
     "output_type": "stream",
     "text": [
      "Equation : ax^2+bx+c\n",
      "Enter a value1\n",
      "Enter b value-2\n",
      "Enter c value1\n",
      "The solution are (1+0j) \n",
      "The solution are (1+0j) \n"
     ]
    }
   ],
   "source": [
    "# Solve the quadratic equation ax**2 + bx + c = 0\n",
    "\n",
    "\n",
    "import cmath\n",
    "print(\"Equation : ax^2+bx+c\")\n",
    "a = int(input('Enter a value'))\n",
    "b = int(input('Enter b value'))\n",
    "c = int(input('Enter c value'))\n",
    "\n",
    "\n",
    "d = (b**2) - (4*a*c)\n",
    "Solution_1 = (-b-cmath.sqrt(d))/(2*a)\n",
    "Solution_2 = (-b+cmath.sqrt(d))/(2*a)\n",
    "\n",
    "print('The solution are {0} '.format(Solution_1))\n",
    "print('The solution are {0} '.format(Solution_2))"
   ]
  },
  {
   "cell_type": "code",
   "execution_count": 17,
   "id": "8833ed51",
   "metadata": {},
   "outputs": [
    {
     "name": "stdout",
     "output_type": "stream",
     "text": [
      "Enter the equation :ax^2+bx+c\n",
      "Enter first number: 1\n",
      "Enter second number: -2\n",
      "Enter third number: 1\n",
      " real and same roots\n",
      "1.0\n"
     ]
    }
   ],
   "source": [
    "print(\"Enter the equation :ax^2+bx+c\")\n",
    "a = int(input(\"Enter first number: \"))\n",
    "b = int(input(\"Enter second number: \"))\n",
    "c = int(input(\"Enter third number: \"))\n",
    "  # calculating discriminant using formula\n",
    "d = b * b - 4 * a * c \n",
    "value = d**0.5\n",
    "      \n",
    "    # checking condition for discriminant\n",
    "if d > 0: \n",
    "        print(\" real and different roots \") \n",
    "        print((-b + d1)/(2 * a)) \n",
    "        print((-b - d1)/(2 * a)) \n",
    "elif d == 0: \n",
    "        print(\" real and same roots\") \n",
    "        print(-b / (2 * a)) \n",
    "      \n",
    "    # when discriminant is less than 0\n",
    "else:\n",
    "        print(\"Complex Roots\") \n",
    "        print(- b / (2 * a), \" + i\", d1) \n",
    "        print(- b / (2 * a), \" - i\", d1)\n"
   ]
  },
  {
   "cell_type": "code",
   "execution_count": null,
   "id": "37890a34",
   "metadata": {},
   "outputs": [],
   "source": []
  }
 ],
 "metadata": {
  "kernelspec": {
   "display_name": "Python 3 (ipykernel)",
   "language": "python",
   "name": "python3"
  },
  "language_info": {
   "codemirror_mode": {
    "name": "ipython",
    "version": 3
   },
   "file_extension": ".py",
   "mimetype": "text/x-python",
   "name": "python",
   "nbconvert_exporter": "python",
   "pygments_lexer": "ipython3",
   "version": "3.9.12"
  }
 },
 "nbformat": 4,
 "nbformat_minor": 5
}
