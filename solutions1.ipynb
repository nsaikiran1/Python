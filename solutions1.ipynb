{
 "cells": [
  {
   "cell_type": "code",
   "execution_count": 10,
   "id": "5ca49623",
   "metadata": {},
   "outputs": [
    {
     "name": "stdout",
     "output_type": "stream",
     "text": [
      "Enter your integer19\n",
      "All odd numbers lessthan or equals to 19 are:\n",
      "1 3 5 7 9 11 13 15 17 19 /n\n",
      "All even numbers lessthan or equals to 19 are:\n",
      "2 4 6 8 10 12 14 16 18 20 "
     ]
    }
   ],
   "source": [
    "n=int(input('Enter your integer'))\n",
    "print('All odd numbers lessthan or equals to {0} are:' .format(n))\n",
    "for x in range (1,n+2,2):\n",
    "    print(x,end=' ')\n",
    "print('/n')\n",
    "print('All even numbers lessthan or equals to {0} are:' .format(n))\n",
    "for y in range (2,n+2,2):\n",
    "    print(y,end=' ')\n",
    "\n"
   ]
  },
  {
   "cell_type": "code",
   "execution_count": 11,
   "id": "a14034f8",
   "metadata": {},
   "outputs": [
    {
     "name": "stdout",
     "output_type": "stream",
     "text": [
      "Enter the start of range :15\n",
      "Enter the end of range :25\n",
      " all even numbers lessthan or equal to 25:\n",
      " [16, 18, 20, 22, 24]\n",
      "/n\n",
      " all odd numbers lessthan or equal to 25:\n",
      " [15, 17, 19, 21, 23, 25]\n"
     ]
    }
   ],
   "source": [
    "even_numbers = []\n",
    "odd_numbers = []\n",
    "start = int(input(\"Enter the start of range :\"))\n",
    "end = int(input(\"Enter the end of range :\"))  \n",
    "for number in range(start,end + 1):\n",
    "    if number // 2 == number / 2:\n",
    "        even_numbers.append(number)\n",
    "    elif number // 2 != number / 2:\n",
    "        odd_numbers.append(number)\n",
    "print(' all even numbers lessthan or equal to {0}:' .format(end))\n",
    "print('',even_numbers)\n",
    "print('/n')\n",
    "print(' all odd numbers lessthan or equal to {0}:' .format(end))\n",
    "print('',odd_numbers)"
   ]
  },
  {
   "cell_type": "code",
   "execution_count": null,
   "id": "e89a418d",
   "metadata": {},
   "outputs": [],
   "source": []
  }
 ],
 "metadata": {
  "kernelspec": {
   "display_name": "Python 3 (ipykernel)",
   "language": "python",
   "name": "python3"
  },
  "language_info": {
   "codemirror_mode": {
    "name": "ipython",
    "version": 3
   },
   "file_extension": ".py",
   "mimetype": "text/x-python",
   "name": "python",
   "nbconvert_exporter": "python",
   "pygments_lexer": "ipython3",
   "version": "3.9.12"
  }
 },
 "nbformat": 4,
 "nbformat_minor": 5
}
