{
 "cells": [
  {
   "cell_type": "code",
   "execution_count": 1,
   "id": "ffad5df5",
   "metadata": {},
   "outputs": [
    {
     "name": "stdout",
     "output_type": "stream",
     "text": [
      "My number is : 34, and My Name is : saikiran\n"
     ]
    }
   ],
   "source": [
    "Num=34\n",
    "Name=\"saikiran\"\n",
    "print('My number is : {one}, and My Name is : {Two}' .format (one=Num,Two=Name))"
   ]
  },
  {
   "cell_type": "code",
   "execution_count": 2,
   "id": "ecdd65c7",
   "metadata": {},
   "outputs": [
    {
     "name": "stdout",
     "output_type": "stream",
     "text": [
      "My area pincode is : 500001, and My City Name is : Hyderabad\n"
     ]
    }
   ],
   "source": [
    "Pincode=500001\n",
    "City=\"Hyderabad\"\n",
    "print('My area pincode is : {}, and My City Name is : {}' .format (Pincode,City))"
   ]
  },
  {
   "cell_type": "code",
   "execution_count": 10,
   "id": "1e97dfc3",
   "metadata": {},
   "outputs": [
    {
     "name": "stdout",
     "output_type": "stream",
     "text": [
      "My University is : JNTUH\n"
     ]
    }
   ],
   "source": [
    "Name=\"JNTUH\"\n",
    "print(\"My University is : {}\".format (Name))"
   ]
  },
  {
   "cell_type": "code",
   "execution_count": 11,
   "id": "6ca29f1d",
   "metadata": {},
   "outputs": [
    {
     "name": "stdout",
     "output_type": "stream",
     "text": [
      "My Name is ssn,my rank is 1\n"
     ]
    }
   ],
   "source": [
    "print(\"My Name is {},my rank is {}\".format('ssn',1))"
   ]
  },
  {
   "cell_type": "code",
   "execution_count": 12,
   "id": "59e758c4",
   "metadata": {},
   "outputs": [
    {
     "name": "stdout",
     "output_type": "stream",
     "text": [
      "['False', 'None', 'True', '__peg_parser__', 'and', 'as', 'assert', 'async', 'await', 'break', 'class', 'continue', 'def', 'del', 'elif', 'else', 'except', 'finally', 'for', 'from', 'global', 'if', 'import', 'in', 'is', 'lambda', 'nonlocal', 'not', 'or', 'pass', 'raise', 'return', 'try', 'while', 'with', 'yield']\n",
      "\n",
      " Total number of Key words : 36\n"
     ]
    }
   ],
   "source": [
    "import keyword\n",
    "print(keyword.kwlist)\n",
    "print(\"\\n Total number of Key words :\",len(keyword.kwlist))"
   ]
  },
  {
   "cell_type": "code",
   "execution_count": 16,
   "id": "d34e100a",
   "metadata": {},
   "outputs": [
    {
     "data": {
      "text/plain": [
       "['Sai', 500, 'Hyd']"
      ]
     },
     "execution_count": 16,
     "metadata": {},
     "output_type": "execute_result"
    }
   ],
   "source": [
    "list\n",
    "['Sai',500,\"Hyd\"]"
   ]
  },
  {
   "cell_type": "code",
   "execution_count": 18,
   "id": "4a21b5ff",
   "metadata": {},
   "outputs": [
    {
     "data": {
      "text/plain": [
       "['Practice', 1, 30, [20, 24]]"
      ]
     },
     "execution_count": 18,
     "metadata": {},
     "output_type": "execute_result"
    }
   ],
   "source": [
    "['Practice',1,30,[20,24]]"
   ]
  },
  {
   "cell_type": "code",
   "execution_count": 19,
   "id": "74c9f37a",
   "metadata": {},
   "outputs": [],
   "source": [
    "my_list=['a','b','c','d']\n",
    "# Lists operations\n",
    "my_list.append('f')"
   ]
  },
  {
   "cell_type": "code",
   "execution_count": 20,
   "id": "880aae23",
   "metadata": {},
   "outputs": [
    {
     "data": {
      "text/plain": [
       "['a', 'b', 'c', 'd', 'f']"
      ]
     },
     "execution_count": 20,
     "metadata": {},
     "output_type": "execute_result"
    }
   ],
   "source": [
    "my_list"
   ]
  },
  {
   "cell_type": "code",
   "execution_count": 21,
   "id": "650fbd8e",
   "metadata": {},
   "outputs": [
    {
     "data": {
      "text/plain": [
       "'c'"
      ]
     },
     "execution_count": 21,
     "metadata": {},
     "output_type": "execute_result"
    }
   ],
   "source": [
    "my_list[2]"
   ]
  },
  {
   "cell_type": "code",
   "execution_count": 22,
   "id": "08d9c9a5",
   "metadata": {},
   "outputs": [
    {
     "data": {
      "text/plain": [
       "['b', 'c', 'd', 'f']"
      ]
     },
     "execution_count": 22,
     "metadata": {},
     "output_type": "execute_result"
    }
   ],
   "source": [
    "my_list[1:]"
   ]
  },
  {
   "cell_type": "code",
   "execution_count": 23,
   "id": "d635b536",
   "metadata": {},
   "outputs": [
    {
     "data": {
      "text/plain": [
       "['a']"
      ]
     },
     "execution_count": 23,
     "metadata": {},
     "output_type": "execute_result"
    }
   ],
   "source": [
    "my_list[:1]"
   ]
  },
  {
   "cell_type": "code",
   "execution_count": 24,
   "id": "c900ef24",
   "metadata": {},
   "outputs": [],
   "source": [
    "test = [1,2,3,[5,6],[1,2,3,4,5]]"
   ]
  },
  {
   "cell_type": "code",
   "execution_count": 25,
   "id": "217d2aec",
   "metadata": {},
   "outputs": [
    {
     "data": {
      "text/plain": [
       "2"
      ]
     },
     "execution_count": 25,
     "metadata": {},
     "output_type": "execute_result"
    }
   ],
   "source": [
    "test[4] [1]"
   ]
  },
  {
   "cell_type": "code",
   "execution_count": 26,
   "id": "349c2084",
   "metadata": {},
   "outputs": [
    {
     "data": {
      "text/plain": [
       "2"
      ]
     },
     "execution_count": 26,
     "metadata": {},
     "output_type": "execute_result"
    }
   ],
   "source": [
    "test [4] [1]"
   ]
  },
  {
   "cell_type": "code",
   "execution_count": 28,
   "id": "cb35f553",
   "metadata": {},
   "outputs": [
    {
     "data": {
      "text/plain": [
       "False"
      ]
     },
     "execution_count": 28,
     "metadata": {},
     "output_type": "execute_result"
    }
   ],
   "source": [
    "1>2"
   ]
  },
  {
   "cell_type": "code",
   "execution_count": 29,
   "id": "657ebd53",
   "metadata": {},
   "outputs": [
    {
     "data": {
      "text/plain": [
       "False"
      ]
     },
     "execution_count": 29,
     "metadata": {},
     "output_type": "execute_result"
    }
   ],
   "source": [
    "25<11"
   ]
  },
  {
   "cell_type": "code",
   "execution_count": 30,
   "id": "3950e460",
   "metadata": {},
   "outputs": [
    {
     "data": {
      "text/plain": [
       "True"
      ]
     },
     "execution_count": 30,
     "metadata": {},
     "output_type": "execute_result"
    }
   ],
   "source": [
    "14<32"
   ]
  },
  {
   "cell_type": "code",
   "execution_count": 31,
   "id": "da57d993",
   "metadata": {},
   "outputs": [
    {
     "data": {
      "text/plain": [
       "False"
      ]
     },
     "execution_count": 31,
     "metadata": {},
     "output_type": "execute_result"
    }
   ],
   "source": [
    "4>=5"
   ]
  },
  {
   "cell_type": "code",
   "execution_count": 32,
   "id": "d8dad7d6",
   "metadata": {},
   "outputs": [
    {
     "data": {
      "text/plain": [
       "True"
      ]
     },
     "execution_count": 32,
     "metadata": {},
     "output_type": "execute_result"
    }
   ],
   "source": [
    "65>=25"
   ]
  },
  {
   "cell_type": "code",
   "execution_count": 33,
   "id": "7b33d6e9",
   "metadata": {},
   "outputs": [
    {
     "data": {
      "text/plain": [
       "True"
      ]
     },
     "execution_count": 33,
     "metadata": {},
     "output_type": "execute_result"
    }
   ],
   "source": [
    "2==2"
   ]
  },
  {
   "cell_type": "code",
   "execution_count": 34,
   "id": "b4ed414e",
   "metadata": {},
   "outputs": [
    {
     "data": {
      "text/plain": [
       "False"
      ]
     },
     "execution_count": 34,
     "metadata": {},
     "output_type": "execute_result"
    }
   ],
   "source": [
    "'hai'=='bye'"
   ]
  },
  {
   "cell_type": "code",
   "execution_count": 36,
   "id": "bb9076b5",
   "metadata": {},
   "outputs": [
    {
     "data": {
      "text/plain": [
       "True"
      ]
     },
     "execution_count": 36,
     "metadata": {},
     "output_type": "execute_result"
    }
   ],
   "source": [
    "'hai'=='hai'"
   ]
  },
  {
   "cell_type": "code",
   "execution_count": 37,
   "id": "98d02cb9",
   "metadata": {},
   "outputs": [
    {
     "data": {
      "text/plain": [
       "{1, 2, 3, 4}"
      ]
     },
     "execution_count": 37,
     "metadata": {},
     "output_type": "execute_result"
    }
   ],
   "source": [
    "{1,1,1,1,1,2,2,2,2,2,2,3,3,3,3,4,4}"
   ]
  },
  {
   "cell_type": "code",
   "execution_count": 38,
   "id": "a753cd8e",
   "metadata": {},
   "outputs": [
    {
     "name": "stdout",
     "output_type": "stream",
     "text": [
      "0\n",
      "1\n",
      "2\n",
      "3\n",
      "4\n",
      "5\n",
      "6\n",
      "7\n",
      "8\n",
      "9\n"
     ]
    }
   ],
   "source": [
    "for i in range(10):\n",
    "    print(i)"
   ]
  },
  {
   "cell_type": "code",
   "execution_count": 40,
   "id": "e1ef9a5a",
   "metadata": {},
   "outputs": [
    {
     "name": "stdout",
     "output_type": "stream",
     "text": [
      "0\n",
      "1\n",
      "2\n",
      "3\n",
      "4\n",
      "5\n",
      "6\n",
      "7\n",
      "8\n",
      "9\n",
      "10\n",
      "11\n",
      "12\n",
      "13\n",
      "14\n",
      "15\n",
      "16\n",
      "17\n",
      "18\n",
      "19\n"
     ]
    }
   ],
   "source": [
    "for i in range(20):\n",
    "    print(i)"
   ]
  },
  {
   "cell_type": "code",
   "execution_count": null,
   "id": "28f0b85e",
   "metadata": {},
   "outputs": [],
   "source": []
  }
 ],
 "metadata": {
  "kernelspec": {
   "display_name": "Python 3 (ipykernel)",
   "language": "python",
   "name": "python3"
  },
  "language_info": {
   "codemirror_mode": {
    "name": "ipython",
    "version": 3
   },
   "file_extension": ".py",
   "mimetype": "text/x-python",
   "name": "python",
   "nbconvert_exporter": "python",
   "pygments_lexer": "ipython3",
   "version": "3.9.12"
  }
 },
 "nbformat": 4,
 "nbformat_minor": 5
}
