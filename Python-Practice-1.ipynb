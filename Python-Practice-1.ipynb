{
 "cells": [
  {
   "cell_type": "markdown",
   "id": "ff2d0840",
   "metadata": {},
   "source": [
    "# Python Math Operations"
   ]
  },
  {
   "cell_type": "code",
   "execution_count": 11,
   "id": "66fe5607",
   "metadata": {},
   "outputs": [
    {
     "data": {
      "text/plain": [
       "5"
      ]
     },
     "execution_count": 11,
     "metadata": {},
     "output_type": "execute_result"
    }
   ],
   "source": [
    "2+3"
   ]
  },
  {
   "cell_type": "code",
   "execution_count": 12,
   "id": "057452c0",
   "metadata": {},
   "outputs": [
    {
     "data": {
      "text/plain": [
       "7"
      ]
     },
     "execution_count": 12,
     "metadata": {},
     "output_type": "execute_result"
    }
   ],
   "source": [
    "35-28"
   ]
  },
  {
   "cell_type": "code",
   "execution_count": 13,
   "id": "1c1698db",
   "metadata": {},
   "outputs": [
    {
     "data": {
      "text/plain": [
       "40"
      ]
     },
     "execution_count": 13,
     "metadata": {},
     "output_type": "execute_result"
    }
   ],
   "source": [
    "5*8"
   ]
  },
  {
   "cell_type": "code",
   "execution_count": 14,
   "id": "93116937",
   "metadata": {
    "scrolled": true
   },
   "outputs": [
    {
     "data": {
      "text/plain": [
       "7.0"
      ]
     },
     "execution_count": 14,
     "metadata": {},
     "output_type": "execute_result"
    }
   ],
   "source": [
    "28/4"
   ]
  },
  {
   "cell_type": "code",
   "execution_count": 16,
   "id": "2ec6f1c9",
   "metadata": {},
   "outputs": [
    {
     "data": {
      "text/plain": [
       "77.0"
      ]
     },
     "execution_count": 16,
     "metadata": {},
     "output_type": "execute_result"
    }
   ],
   "source": [
    "48*2-24+15/3"
   ]
  },
  {
   "cell_type": "code",
   "execution_count": 18,
   "id": "d3983911",
   "metadata": {},
   "outputs": [
    {
     "data": {
      "text/plain": [
       "2350.3"
      ]
     },
     "execution_count": 18,
     "metadata": {},
     "output_type": "execute_result"
    }
   ],
   "source": [
    "101*23+65-754/20"
   ]
  },
  {
   "cell_type": "code",
   "execution_count": 19,
   "id": "47687279",
   "metadata": {},
   "outputs": [
    {
     "data": {
      "text/plain": [
       "-37"
      ]
     },
     "execution_count": 19,
     "metadata": {},
     "output_type": "execute_result"
    }
   ],
   "source": [
    "28-65"
   ]
  },
  {
   "cell_type": "code",
   "execution_count": 20,
   "id": "bfd3e944",
   "metadata": {},
   "outputs": [
    {
     "data": {
      "text/plain": [
       "0.5"
      ]
     },
     "execution_count": 20,
     "metadata": {},
     "output_type": "execute_result"
    }
   ],
   "source": [
    "15/30"
   ]
  },
  {
   "cell_type": "code",
   "execution_count": 21,
   "id": "311ee2f6",
   "metadata": {},
   "outputs": [
    {
     "data": {
      "text/plain": [
       "3.7142857142857144"
      ]
     },
     "execution_count": 21,
     "metadata": {},
     "output_type": "execute_result"
    }
   ],
   "source": [
    "78/21"
   ]
  },
  {
   "cell_type": "code",
   "execution_count": null,
   "id": "99b16500",
   "metadata": {},
   "outputs": [],
   "source": []
  }
 ],
 "metadata": {
  "kernelspec": {
   "display_name": "Python 3 (ipykernel)",
   "language": "python",
   "name": "python3"
  },
  "language_info": {
   "codemirror_mode": {
    "name": "ipython",
    "version": 3
   },
   "file_extension": ".py",
   "mimetype": "text/x-python",
   "name": "python",
   "nbconvert_exporter": "python",
   "pygments_lexer": "ipython3",
   "version": "3.9.12"
  }
 },
 "nbformat": 4,
 "nbformat_minor": 5
}
