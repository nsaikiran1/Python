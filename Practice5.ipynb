{
 "cells": [
  {
   "cell_type": "code",
   "execution_count": 15,
   "id": "188f2600",
   "metadata": {},
   "outputs": [
    {
     "name": "stdout",
     "output_type": "stream",
     "text": [
      "Enter the price of 1st:15\n",
      "Enter the price of 2nd:18\n",
      "Enter the price of 3rd:87\n",
      "Enter the price of 4th:452\n",
      "Enter the price of 5th:653.2\n",
      "Enter the price of 6th:75.2\n",
      "Total Value : 1300.4\n",
      "Total Tax is : 192.46\n",
      "Total amount is: 1492.8600000000001\n"
     ]
    }
   ],
   "source": [
    "product1 = int(input(\"Enter the price of 1st:\"))\n",
    "product2 = int(input(\"Enter the price of 2nd:\"))\n",
    "product3= int(input(\"Enter the price of 3rd:\"))\n",
    "product4 = int(input(\"Enter the price of 4th:\"))\n",
    "product5 = float(input(\"Enter the price of 5th:\"))\n",
    "product6= float(input(\"Enter the price of 6th:\"))\n",
    "Total = product1+product2+product3+product4+product5+product6\n",
    "print(\"Total Value :\" ,Total)\n",
    "Tax_cal = round(Total*14.8/100,2)\n",
    "print(\"Total Tax is :\",Tax_cal)\n",
    "Total_amount = Total+Tax_cal\n",
    "print(\"Total amount is:\", Total_amount)\n"
   ]
  },
  {
   "cell_type": "code",
   "execution_count": 16,
   "id": "24a13572",
   "metadata": {},
   "outputs": [
    {
     "name": "stdout",
     "output_type": "stream",
     "text": [
      "enter first number54\n",
      "enter second number24\n",
      "enter third number54\n",
      "enter fourth number14\n",
      "54\n"
     ]
    }
   ],
   "source": [
    "a = int(input(\"enter first number\"))\n",
    "b = int(input(\"enter second number\"))\n",
    "c = int(input(\"enter third number\"))\n",
    "d = int(input(\"enter fourth number\"))\n",
    "\n",
    "if(a>=b, a>=c, a>=d):\n",
    "    print(a)\n",
    "\n",
    "elif(b>=a, b>=c, b>=d):\n",
    "    print(b)\n",
    "\n",
    "elif(c>=a, c>=b, c>=d):\n",
    "    print(c)\n",
    "\n",
    "else:\n",
    "    print(d)"
   ]
  },
  {
   "cell_type": "code",
   "execution_count": null,
   "id": "3addb617",
   "metadata": {},
   "outputs": [],
   "source": []
  }
 ],
 "metadata": {
  "kernelspec": {
   "display_name": "Python 3 (ipykernel)",
   "language": "python",
   "name": "python3"
  },
  "language_info": {
   "codemirror_mode": {
    "name": "ipython",
    "version": 3
   },
   "file_extension": ".py",
   "mimetype": "text/x-python",
   "name": "python",
   "nbconvert_exporter": "python",
   "pygments_lexer": "ipython3",
   "version": "3.9.12"
  }
 },
 "nbformat": 4,
 "nbformat_minor": 5
}
