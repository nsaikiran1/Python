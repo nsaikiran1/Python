{
 "cells": [
  {
   "cell_type": "code",
   "execution_count": 1,
   "id": "f3d296c8",
   "metadata": {},
   "outputs": [
    {
     "data": {
      "text/plain": [
       "False"
      ]
     },
     "execution_count": 1,
     "metadata": {},
     "output_type": "execute_result"
    }
   ],
   "source": [
    "2>4 and 5>4"
   ]
  },
  {
   "cell_type": "code",
   "execution_count": 2,
   "id": "61c7bacb",
   "metadata": {},
   "outputs": [
    {
     "data": {
      "text/plain": [
       "True"
      ]
     },
     "execution_count": 2,
     "metadata": {},
     "output_type": "execute_result"
    }
   ],
   "source": [
    "201<600 and 24>12"
   ]
  },
  {
   "cell_type": "code",
   "execution_count": 3,
   "id": "57d7b85e",
   "metadata": {},
   "outputs": [
    {
     "data": {
      "text/plain": [
       "False"
      ]
     },
     "execution_count": 3,
     "metadata": {},
     "output_type": "execute_result"
    }
   ],
   "source": [
    "101<20 and 54>21"
   ]
  },
  {
   "cell_type": "code",
   "execution_count": 4,
   "id": "d41a24ed",
   "metadata": {},
   "outputs": [
    {
     "data": {
      "text/plain": [
       "False"
      ]
     },
     "execution_count": 4,
     "metadata": {},
     "output_type": "execute_result"
    }
   ],
   "source": [
    "55>12 and 85<54 "
   ]
  },
  {
   "cell_type": "code",
   "execution_count": 5,
   "id": "2c842110",
   "metadata": {},
   "outputs": [
    {
     "data": {
      "text/plain": [
       "True"
      ]
     },
     "execution_count": 5,
     "metadata": {},
     "output_type": "execute_result"
    }
   ],
   "source": [
    "25>12 or 12>5"
   ]
  },
  {
   "cell_type": "code",
   "execution_count": 6,
   "id": "8217d471",
   "metadata": {},
   "outputs": [
    {
     "data": {
      "text/plain": [
       "False"
      ]
     },
     "execution_count": 6,
     "metadata": {},
     "output_type": "execute_result"
    }
   ],
   "source": [
    "35>45 or 85>120"
   ]
  },
  {
   "cell_type": "code",
   "execution_count": 7,
   "id": "981478c2",
   "metadata": {},
   "outputs": [
    {
     "data": {
      "text/plain": [
       "True"
      ]
     },
     "execution_count": 7,
     "metadata": {},
     "output_type": "execute_result"
    }
   ],
   "source": [
    "11<54 or 55>68"
   ]
  },
  {
   "cell_type": "code",
   "execution_count": 8,
   "id": "b866ba91",
   "metadata": {},
   "outputs": [
    {
     "data": {
      "text/plain": [
       "True"
      ]
     },
     "execution_count": 8,
     "metadata": {},
     "output_type": "execute_result"
    }
   ],
   "source": [
    "55>97 or 88<120"
   ]
  },
  {
   "cell_type": "code",
   "execution_count": 9,
   "id": "82a13844",
   "metadata": {},
   "outputs": [
    {
     "data": {
      "text/plain": [
       "False"
      ]
     },
     "execution_count": 9,
     "metadata": {},
     "output_type": "execute_result"
    }
   ],
   "source": [
    "((41>21) and (58<21)) or ((18>21) and (12>10))"
   ]
  },
  {
   "cell_type": "code",
   "execution_count": 10,
   "id": "67d1ce7c",
   "metadata": {},
   "outputs": [
    {
     "data": {
      "text/plain": [
       "True"
      ]
     },
     "execution_count": 10,
     "metadata": {},
     "output_type": "execute_result"
    }
   ],
   "source": [
    "((15<54) and (15>12) or (18<19) or (18>21))"
   ]
  },
  {
   "cell_type": "code",
   "execution_count": 11,
   "id": "c24cce71",
   "metadata": {},
   "outputs": [],
   "source": [
    "#List operations "
   ]
  },
  {
   "cell_type": "code",
   "execution_count": 14,
   "id": "a24f9b89",
   "metadata": {},
   "outputs": [
    {
     "name": "stdout",
     "output_type": "stream",
     "text": [
      "[5, 9, 11, 19]\n"
     ]
    }
   ],
   "source": [
    "list =[];\n",
    "list.insert(0,5);\n",
    "list.insert(1,9);\n",
    "list.insert(2,11);\n",
    "list.insert(3,19);\n",
    "print(list);"
   ]
  },
  {
   "cell_type": "code",
   "execution_count": 17,
   "id": "7c6ab586",
   "metadata": {},
   "outputs": [
    {
     "name": "stdout",
     "output_type": "stream",
     "text": [
      "[15, 64, 15, 19, 5, 9, 11, 19]\n"
     ]
    }
   ],
   "source": [
    "list.insert(1,64);\n",
    "print(list);"
   ]
  },
  {
   "cell_type": "code",
   "execution_count": 18,
   "id": "18474a7d",
   "metadata": {},
   "outputs": [
    {
     "name": "stdout",
     "output_type": "stream",
     "text": [
      "[17, 58, 14, 15, 52, 59, 66]\n"
     ]
    }
   ],
   "source": [
    "list2=[17,58,14,15];\n",
    "list3=[52,59,66];\n",
    "print(list2+list3)"
   ]
  },
  {
   "cell_type": "code",
   "execution_count": 21,
   "id": "f5bf1f7c",
   "metadata": {},
   "outputs": [
    {
     "name": "stdout",
     "output_type": "stream",
     "text": [
      "[52, 59, 66]\n"
     ]
    }
   ],
   "source": [
    "list2.extend(list2);\n",
    "print(list3);\n"
   ]
  },
  {
   "cell_type": "code",
   "execution_count": 24,
   "id": "ac8ab7ca",
   "metadata": {},
   "outputs": [
    {
     "name": "stdout",
     "output_type": "stream",
     "text": [
      "[17, 58, 55]\n"
     ]
    }
   ],
   "source": [
    "list2=[17,58,4,55];\n",
    "list2.remove(4);\n",
    "print(list2);"
   ]
  },
  {
   "cell_type": "code",
   "execution_count": 27,
   "id": "d77fed43",
   "metadata": {},
   "outputs": [
    {
     "name": "stdout",
     "output_type": "stream",
     "text": [
      "1797538178112\n"
     ]
    }
   ],
   "source": [
    "#MEMORY LOCATION ADDRESS\n",
    "list4=[14,81,52,96]\n",
    "print(id(list4))"
   ]
  },
  {
   "cell_type": "code",
   "execution_count": 28,
   "id": "56b68f93",
   "metadata": {},
   "outputs": [
    {
     "name": "stdout",
     "output_type": "stream",
     "text": [
      "[1, 2, 3, 4, 5]\n"
     ]
    }
   ],
   "source": [
    "# slicing\n",
    "list7=[1,2,3,4,5,6,7,8,9,10]\n",
    "print(list7[0:5]);"
   ]
  },
  {
   "cell_type": "code",
   "execution_count": null,
   "id": "599a256e",
   "metadata": {},
   "outputs": [],
   "source": [
    "# step size num [start :end: stepsize]"
   ]
  },
  {
   "cell_type": "code",
   "execution_count": 30,
   "id": "3f5ff59c",
   "metadata": {},
   "outputs": [
    {
     "name": "stdout",
     "output_type": "stream",
     "text": [
      "[3, 5, 7]\n"
     ]
    }
   ],
   "source": [
    "print(list7[2:8:2]);"
   ]
  },
  {
   "cell_type": "code",
   "execution_count": 31,
   "id": "6a8425bb",
   "metadata": {},
   "outputs": [
    {
     "name": "stdout",
     "output_type": "stream",
     "text": [
      "[2, 5]\n"
     ]
    }
   ],
   "source": [
    "print(list7[1:6:3])"
   ]
  },
  {
   "cell_type": "code",
   "execution_count": 33,
   "id": "5bec09b4",
   "metadata": {},
   "outputs": [
    {
     "name": "stdout",
     "output_type": "stream",
     "text": [
      "[2, 6, 10]\n"
     ]
    }
   ],
   "source": [
    "print(list7[1:10:4])"
   ]
  },
  {
   "cell_type": "code",
   "execution_count": 38,
   "id": "2369e317",
   "metadata": {},
   "outputs": [
    {
     "name": "stdout",
     "output_type": "stream",
     "text": [
      "7\n"
     ]
    }
   ],
   "source": [
    "list=[1,1,1,1,1,1,1,5,4,4,4,5,8,8,8,5,6,2];\n",
    "print(list.count(1));"
   ]
  },
  {
   "cell_type": "code",
   "execution_count": 40,
   "id": "cd51acd6",
   "metadata": {},
   "outputs": [
    {
     "name": "stdout",
     "output_type": "stream",
     "text": [
      "[0, 5, 10]\n"
     ]
    }
   ],
   "source": [
    "even=[];\n",
    "for i in range(15):\n",
    "    if (i%5==0):   \n",
    "        even.append(i);\n",
    "print(even);"
   ]
  },
  {
   "cell_type": "code",
   "execution_count": 42,
   "id": "df0b344c",
   "metadata": {},
   "outputs": [
    {
     "name": "stdout",
     "output_type": "stream",
     "text": [
      "[1, 5, 9, 13, 17, 21]\n"
     ]
    }
   ],
   "source": [
    "odd=[];\n",
    "for i in range(25):\n",
    "    if (i%4==1):\n",
    "        odd.append(i);\n",
    "print(odd);        "
   ]
  },
  {
   "cell_type": "code",
   "execution_count": 43,
   "id": "1c4c8614",
   "metadata": {},
   "outputs": [
    {
     "name": "stdout",
     "output_type": "stream",
     "text": [
      "[(0, 0), (1, 1), (2, 8), (3, 27), (4, 64), (5, 125)]\n"
     ]
    }
   ],
   "source": [
    "sq=[(i,i**3)for i in range(6)];\n",
    "print(sq);"
   ]
  }
 ],
 "metadata": {
  "kernelspec": {
   "display_name": "Python 3 (ipykernel)",
   "language": "python",
   "name": "python3"
  },
  "language_info": {
   "codemirror_mode": {
    "name": "ipython",
    "version": 3
   },
   "file_extension": ".py",
   "mimetype": "text/x-python",
   "name": "python",
   "nbconvert_exporter": "python",
   "pygments_lexer": "ipython3",
   "version": "3.9.12"
  }
 },
 "nbformat": 4,
 "nbformat_minor": 5
}
