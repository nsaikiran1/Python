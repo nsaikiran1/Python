{
 "cells": [
  {
   "cell_type": "code",
   "execution_count": 1,
   "id": "fa4e94db",
   "metadata": {},
   "outputs": [
    {
     "name": "stdout",
     "output_type": "stream",
     "text": [
      "What is Your Name?Saikiran\n",
      "My Name Is Saikiran\n"
     ]
    }
   ],
   "source": [
    "Name=input(\"What is Your Name?\")\n",
    "print('My Name Is ' + Name)"
   ]
  },
  {
   "cell_type": "code",
   "execution_count": 5,
   "id": "f6c5ab28",
   "metadata": {},
   "outputs": [
    {
     "name": "stdout",
     "output_type": "stream",
     "text": [
      "What is your name?Saikiran\n",
      "Which place is do you likeParis\n",
      "My Name is Saikiran\n",
      "and \n",
      "My Favorite place is Paris\n"
     ]
    }
   ],
   "source": [
    "Name=input('What is your name?')\n",
    "Place=input('Which place is do you like')\n",
    "print('My Name is ' +Name) \n",
    "print('and ')\n",
    "print('My Favorite place is ' +Place)"
   ]
  },
  {
   "cell_type": "code",
   "execution_count": 13,
   "id": "860171ea",
   "metadata": {},
   "outputs": [
    {
     "name": "stdout",
     "output_type": "stream",
     "text": [
      "Enter your Year Of Birth: 1992\n",
      "1992\n",
      "30\n"
     ]
    }
   ],
   "source": [
    "Year_of_Birth = int(input('Enter your Year Of Birth: '))\n",
    "age = 2022-Year_of_Birth\n",
    "print(Year_of_Birth )\n",
    "print(age)"
   ]
  },
  {
   "cell_type": "code",
   "execution_count": 15,
   "id": "cf90d635",
   "metadata": {},
   "outputs": [
    {
     "name": "stdout",
     "output_type": "stream",
     "text": [
      "This is python class\n"
     ]
    }
   ],
   "source": [
    "Content='This is python class'\n",
    "print(Content[:])\n"
   ]
  },
  {
   "cell_type": "code",
   "execution_count": 16,
   "id": "75510f32",
   "metadata": {},
   "outputs": [
    {
     "name": "stdout",
     "output_type": "stream",
     "text": [
      "This i\n"
     ]
    }
   ],
   "source": [
    "Content='This is python class'\n",
    "print(Content[0:6])"
   ]
  },
  {
   "cell_type": "code",
   "execution_count": 17,
   "id": "93093905",
   "metadata": {},
   "outputs": [
    {
     "name": "stdout",
     "output_type": "stream",
     "text": [
      "T\n"
     ]
    }
   ],
   "source": [
    "Content='This is python class'\n",
    "print(Content[0])"
   ]
  },
  {
   "cell_type": "code",
   "execution_count": 18,
   "id": "58db3ac8",
   "metadata": {},
   "outputs": [
    {
     "name": "stdout",
     "output_type": "stream",
     "text": [
      "s\n"
     ]
    }
   ],
   "source": [
    "Content='This is python class'\n",
    "print(Content[-1])"
   ]
  },
  {
   "cell_type": "code",
   "execution_count": 20,
   "id": "7610542a",
   "metadata": {},
   "outputs": [
    {
     "name": "stdout",
     "output_type": "stream",
     "text": [
      "8\n"
     ]
    }
   ],
   "source": [
    "Content='Hi all, This is Saikiran'\n",
    "print(Content.find('T'))"
   ]
  },
  {
   "cell_type": "code",
   "execution_count": 23,
   "id": "270e0d1a",
   "metadata": {},
   "outputs": [
    {
     "name": "stdout",
     "output_type": "stream",
     "text": [
      "13\n"
     ]
    }
   ],
   "source": [
    "Content='Hi all, This is Saikiran'\n",
    "print(Content.find('is Saikiran'))"
   ]
  },
  {
   "cell_type": "code",
   "execution_count": 25,
   "id": "3f81f3f8",
   "metadata": {},
   "outputs": [
    {
     "name": "stdout",
     "output_type": "stream",
     "text": [
      "Hi all, I am Saikiran\n"
     ]
    }
   ],
   "source": [
    "Content='Hi all, This is Saikiran'\n",
    "print(Content.replace('This is','I am'))"
   ]
  },
  {
   "cell_type": "code",
   "execution_count": 26,
   "id": "93a34209",
   "metadata": {},
   "outputs": [
    {
     "name": "stdout",
     "output_type": "stream",
     "text": [
      "hi all, this is saikiran\n",
      "HI ALL, THIS IS SAIKIRAN\n",
      "Hi All, This Is Saikiran\n"
     ]
    }
   ],
   "source": [
    "Content='Hi all, This is Saikiran'\n",
    "print(Content.lower())\n",
    "print(Content.upper())\n",
    "print(Content.title())"
   ]
  },
  {
   "cell_type": "code",
   "execution_count": 29,
   "id": "65ded687",
   "metadata": {},
   "outputs": [
    {
     "name": "stdout",
     "output_type": "stream",
     "text": [
      "Enter 1st value : 85\n",
      "Enter 2nd value : 74\n",
      "Sum :  159\n"
     ]
    }
   ],
   "source": [
    "a=int(input('Enter 1st value : '))\n",
    "b=int(input('Enter 2nd value : '))\n",
    "#Sum\n",
    "c=a+b\n",
    "print('Sum : ',c)\n"
   ]
  },
  {
   "cell_type": "code",
   "execution_count": 30,
   "id": "a05df857",
   "metadata": {},
   "outputs": [
    {
     "name": "stdout",
     "output_type": "stream",
     "text": [
      "Enter 1st value : 65\n",
      "Enter 2nd value : 95\n",
      "Sum :  160\n"
     ]
    }
   ],
   "source": [
    "a=(input('Enter 1st value : '))\n",
    "b=(input('Enter 2nd value : '))\n",
    "#Sum\n",
    "c=int(a)+int(b)\n",
    "print('Sum : ',c)"
   ]
  },
  {
   "cell_type": "code",
   "execution_count": 32,
   "id": "a2b93c27",
   "metadata": {},
   "outputs": [
    {
     "name": "stdout",
     "output_type": "stream",
     "text": [
      "Enter 1st value : sai\n",
      "Enter 2nd value : kiran\n",
      "Sum :  saikiran\n"
     ]
    }
   ],
   "source": [
    "a=(input('Enter 1st value : '))\n",
    "b=(input('Enter 2nd value : '))\n",
    "#Sum\n",
    "c=a+b\n",
    "print('Sum : ',c)"
   ]
  },
  {
   "cell_type": "code",
   "execution_count": 33,
   "id": "1ff9314c",
   "metadata": {},
   "outputs": [
    {
     "name": "stdout",
     "output_type": "stream",
     "text": [
      "Enter 1st value : 95\n",
      "Enter 2nd value : 35\n",
      "Sum :  130\n"
     ]
    }
   ],
   "source": [
    "a=int(input('Enter 1st value : '))\n",
    "b=int(input('Enter 2nd value : '))\n",
    "#Sum\n",
    "#c=a+b\n",
    "print('Sum : ',a+b)"
   ]
  },
  {
   "cell_type": "code",
   "execution_count": 37,
   "id": "71d6b8fd",
   "metadata": {},
   "outputs": [
    {
     "name": "stdout",
     "output_type": "stream",
     "text": [
      "Enter a value: 12\n",
      "Enter b value: 14\n",
      "Enter c value: 14\n",
      "Greter value :  14\n"
     ]
    }
   ],
   "source": [
    "a=int(input('Enter a value: '))\n",
    "b=int(input('Enter b value: '))\n",
    "c=int(input('Enter c value: '))\n",
    "if a>b:\n",
    "    if a>c:\n",
    "        g=a\n",
    "    else: \n",
    "        g=c\n",
    "else:\n",
    "    if b>c:\n",
    "        g=b\n",
    "    else:\n",
    "        g=c\n",
    "print('Greter value : ',g)        \n",
    "        "
   ]
  },
  {
   "cell_type": "code",
   "execution_count": 40,
   "id": "faedc4e0",
   "metadata": {},
   "outputs": [
    {
     "name": "stdout",
     "output_type": "stream",
     "text": [
      "Enter number : 40\n",
      "value of n : 40\n",
      "numbers from 40 to 1 are :\n",
      "40\n",
      "39\n",
      "38\n",
      "37\n",
      "36\n",
      "35\n",
      "34\n",
      "33\n",
      "32\n",
      "31\n",
      "30\n",
      "29\n",
      "28\n",
      "27\n",
      "26\n",
      "25\n",
      "24\n",
      "23\n",
      "22\n",
      "21\n",
      "20\n",
      "19\n",
      "18\n",
      "17\n",
      "16\n",
      "15\n",
      "14\n",
      "13\n",
      "12\n",
      "11\n",
      "10\n",
      "9\n",
      "8\n",
      "7\n",
      "6\n",
      "5\n",
      "4\n",
      "3\n",
      "2\n",
      "1\n"
     ]
    }
   ],
   "source": [
    "#print number in reverse\n",
    "#Numbers from n to 1\n",
    "n=int(input('Enter number : '))\n",
    "\n",
    "#check the input value\n",
    "if(n<=1):\n",
    "    print('n should be greter than 1')\n",
    "    exit()\n",
    "#Print the value of n\n",
    "print('value of n :', n)\n",
    "\n",
    "#Print the numbers from n to1\n",
    "#Message\n",
    "print('numbers from {0} to {1} are :'.format(n,1))\n",
    "\n",
    "#Loop to print numbers\n",
    "\n",
    "for i in range(n,0,-1):\n",
    "     print(i)\n"
   ]
  },
  {
   "cell_type": "code",
   "execution_count": 45,
   "id": "5ade4a0c",
   "metadata": {},
   "outputs": [
    {
     "name": "stdout",
     "output_type": "stream",
     "text": [
      "Enter your age18\n",
      "You are  Eligible for vote\n"
     ]
    }
   ],
   "source": [
    "age=int(input('Enter your age'))\n",
    "if (age<=18):\n",
    "    status='Eligible'\n",
    "else:\n",
    "    status='Not Eligible'\n",
    "print('You are ',status, 'for vote')    \n",
    "    \n",
    "    "
   ]
  },
  {
   "cell_type": "code",
   "execution_count": 50,
   "id": "d6717497",
   "metadata": {},
   "outputs": [
    {
     "name": "stdout",
     "output_type": "stream",
     "text": [
      "Enter Number: 26\n",
      "26 is even\n"
     ]
    }
   ],
   "source": [
    "#To check number is Even or Odd\n",
    "num=int(input('Enter Number: '))\n",
    "if(num%2) == 0:\n",
    "    print('{0} is even'.format(num))\n",
    "else:\n",
    "    print('{0} is Odd'.format(num))\n",
    "    "
   ]
  },
  {
   "cell_type": "code",
   "execution_count": 7,
   "id": "805fdb62",
   "metadata": {},
   "outputs": [
    {
     "name": "stdout",
     "output_type": "stream",
     "text": [
      "Enter number : 2\n",
      "2 is a prime number\n"
     ]
    }
   ],
   "source": [
    "#Prime number or not\n",
    "\n",
    "#To take input from the User\n",
    "\n",
    "num=int(input('Enter number : '))\n",
    "\n",
    "#define flag variable\n",
    "flag=False\n",
    "\n",
    "#Prime numbers are greterthan 1\n",
    "if num > 1:\n",
    "    #check for factors\n",
    "    for i in range(2,num):\n",
    "        if(num%i==0):\n",
    "            #If factors is found, set flag is true\n",
    "            flag = True\n",
    "            #Break out from loop\n",
    "            break\n",
    "            \n",
    "#check if flag is True\n",
    "if flag:\n",
    "    print(num, \"is not a prime number\")\n",
    "else:\n",
    "    print(num,\"is a prime number\")\n",
    "            "
   ]
  },
  {
   "cell_type": "code",
   "execution_count": 14,
   "id": "d7aa0579",
   "metadata": {},
   "outputs": [
    {
     "name": "stdout",
     "output_type": "stream",
     "text": [
      "Enter number : 15\n",
      "value of n :  15\n",
      "Numbers from 15 to 1 are : \n",
      "15\n",
      "14\n",
      "13\n",
      "12\n",
      "11\n",
      "10\n",
      "9\n",
      "8\n",
      "7\n",
      "6\n",
      "5\n",
      "4\n",
      "3\n",
      "2\n",
      "1\n"
     ]
    }
   ],
   "source": [
    "#Python program to print numbers\n",
    "#From n to 1\n",
    "\n",
    "#Input the value of n\n",
    "n=int(input(\"Enter number : \"))\n",
    "\n",
    "#check the input value\n",
    "if(n<=1):\n",
    "    print(\"n should be greterthan 1\")\n",
    "    exit()\n",
    "#print the value of n\n",
    "print(\"value of n : \", n)\n",
    "\n",
    "#Print the numbers from n to 1\n",
    "#Message\n",
    "print(\"Numbers from {0} to {1} are : \" .format(n,1))\n",
    "\n",
    "#loop to print number \n",
    "for i in range(n,0,-1):\n",
    "    print(i)\n"
   ]
  },
  {
   "cell_type": "code",
   "execution_count": 18,
   "id": "6becfe36",
   "metadata": {},
   "outputs": [
    {
     "name": "stdout",
     "output_type": "stream",
     "text": [
      "Enter a number: 253\n",
      "253 is  not an Amstrong number\n"
     ]
    }
   ],
   "source": [
    "#python program to check if the number ia an amstrong or not\n",
    "\n",
    "#Take input from the user\n",
    "num=int(input(\"Enter a number: \"))\n",
    "\n",
    "#initialize sum\n",
    "sum = 0\n",
    "\n",
    "#find the sum of the cube of each digit\n",
    "temp=num\n",
    "while temp > 0:\n",
    "    digit = temp % 10\n",
    "    sum += digit ** 3\n",
    "    temp //= 10\n",
    "    \n",
    "#Display the Result\n",
    "\n",
    "if num ==sum:\n",
    "    print(num,\"is a Amstrong number \")\n",
    "else:\n",
    "    print(num,\"is  not an Amstrong number\")\n"
   ]
  },
  {
   "cell_type": "code",
   "execution_count": 21,
   "id": "9928e3b1",
   "metadata": {},
   "outputs": [
    {
     "name": "stdout",
     "output_type": "stream",
     "text": [
      "Enter number : 2548795\n",
      "The reverse number is 5978452\n"
     ]
    }
   ],
   "source": [
    "#reverse the num(ber what we give in input\n",
    "number=int(input(\"Enter number : \"))\n",
    "\n",
    "#Initial value to null\n",
    "reverse_number = 0\n",
    "\n",
    "#Reverse the integer number using while loop\n",
    "\n",
    "while (number > 0):\n",
    "\n",
    "#Logic\n",
    "    remainder=number%10\n",
    "    reverse_number = reverse_number*10+remainder\n",
    "    number //= 10  \n",
    "    \n",
    "#Display the Result\n",
    "print(\"The reverse number is {0}\" .format(reverse_number))"
   ]
  },
  {
   "cell_type": "code",
   "execution_count": 23,
   "id": "5f015d68",
   "metadata": {},
   "outputs": [
    {
     "name": "stdout",
     "output_type": "stream",
     "text": [
      "Enter number : 15\n",
      "The squre root of 15 is 225 \n"
     ]
    }
   ],
   "source": [
    "#Squre of number\n",
    "\n",
    "number=int(input(\"Enter number : \"))\n",
    "\n",
    "#Logic\n",
    "sqrt = number * number\n",
    "\n",
    "#print values\n",
    "print(\"The squre root of {0} is {1} \".format(number,sqrt))"
   ]
  },
  {
   "cell_type": "code",
   "execution_count": 24,
   "id": "094eb4d2",
   "metadata": {},
   "outputs": [
    {
     "name": "stdout",
     "output_type": "stream",
     "text": [
      "Enter 1st value : 21\n",
      "Enter 2nd value : 54\n",
      "Enter 3rd value : 96\n",
      "Enter 4th value : 11\n",
      "The Maximum value is :  96\n"
     ]
    }
   ],
   "source": [
    "#Maximum number finding\n",
    "#initializing \n",
    "\n",
    "num1=int(input(\"Enter 1st value : \"))\n",
    "num2=int(input(\"Enter 2nd value : \"))\n",
    "num3=int(input(\"Enter 3rd value : \"))\n",
    "num4=int(input(\"Enter 4th value : \"))\n",
    "\n",
    "#Finding Maximum value\n",
    "Maximum=max(num1,num2,num3,num4)\n",
    "\n",
    "#Printing value\n",
    "print(\"The Maximum value is : \", Maximum)"
   ]
  },
  {
   "cell_type": "code",
   "execution_count": 25,
   "id": "1e0167c2",
   "metadata": {},
   "outputs": [
    {
     "name": "stdout",
     "output_type": "stream",
     "text": [
      "Enter 1st value : 18\n",
      "Enter 2nd value : 52\n",
      "Enter 3rd value : 10\n",
      "Enter 4th value : 2\n",
      "The Minimum value is :  2\n"
     ]
    }
   ],
   "source": [
    "#Minimum number finding\n",
    "#initializing \n",
    "\n",
    "num1=int(input(\"Enter 1st value : \"))\n",
    "num2=int(input(\"Enter 2nd value : \"))\n",
    "num3=int(input(\"Enter 3rd value : \"))\n",
    "num4=int(input(\"Enter 4th value : \"))\n",
    "\n",
    "#Finding Minimum value\n",
    "Minimum=min(num1,num2,num3,num4)\n",
    "\n",
    "#Printing value\n",
    "print(\"The Minimum value is : \", Minimum)"
   ]
  },
  {
   "cell_type": "code",
   "execution_count": 29,
   "id": "c0e5f3f8",
   "metadata": {},
   "outputs": [
    {
     "name": "stdout",
     "output_type": "stream",
     "text": [
      "Enter Radies of the Circle : 5\n",
      "The Area of the Circle is :  78.5\n",
      "The Perimeter of the Circle is :  31.400000000000002\n"
     ]
    }
   ],
   "source": [
    "#Python program to find area and perimeter of Circle in python\n",
    "\n",
    "#Initializing values\n",
    "PI=3.14\n",
    "\n",
    "#Getting input from the User\n",
    "R = float(input(\"Enter Radies of the Circle : \"))\n",
    "\n",
    "#Finding the Area and Perimeter of the Circle\n",
    "area = (PI*R*R)\n",
    "perimeter = (2*PI*R)\n",
    "\n",
    "#Printing Area and Perimeter of the Circle\n",
    "\n",
    "print(\"The Area of the Circle is : \", area)\n",
    "print(\"The Perimeter of the Circle is : \", perimeter)\n",
    "\n"
   ]
  },
  {
   "cell_type": "code",
   "execution_count": null,
   "id": "8d9b3a4a",
   "metadata": {},
   "outputs": [],
   "source": [
    "#Leaf Year or Not\n",
    "#Importing Calendar \n",
    "\n",
    "import calendar\n",
    "  \n",
    "#input the year\n",
    "year=int(input(\"Enter the value of year\"))\n",
    "leap_year=calendar.isleap(year)\n",
    "\n",
    "#OR\n",
    "\n",
    "#-------------------------------------------\n",
    "#if year%400==0 or year%4==0 and y%100!=0:\n",
    "#if leap_year:  #Check condition\n",
    "#    print(year, \" is a leaf year\")\n",
    "#else :\n",
    "#    print(year, \" is not a leaf year\")\n",
    "#-------------------------------------------\n",
    "#checking leap year \n",
    "if leap_year:  #Check condition\n",
    "    print(year, \" is a leaf year\")\n",
    "else :\n",
    "    print(year, \" is not a leaf year\")\n",
    "    "
   ]
  },
  {
   "cell_type": "code",
   "execution_count": 41,
   "id": "eba517ec",
   "metadata": {},
   "outputs": [
    {
     "name": "stdout",
     "output_type": "stream",
     "text": [
      "Enter Principle amount : 100000\n",
      "Enter Time period : 24\n",
      "Enter Rate of interest : 2\n",
      "The Principle amount is :  100000.0\n",
      "The Time period is :  24.0\n",
      "The Rate of interest is :  2.0\n",
      "Total amount with principle and interest is :  48000.0\n"
     ]
    }
   ],
   "source": [
    "#Python program to find simple interest\n",
    "\n",
    "P=float(input(\"Enter Principle amount : \"))\n",
    "T=float(input(\"Enter Time period : \"))\n",
    "R=float(input(\"Enter Rate of interest : \"))\n",
    "\n",
    "#Formula for simple interest\n",
    "SI = ((P*T*R)/100)\n",
    "\n",
    "#Print Values\n",
    "print(\"The Principle amount is : \", P)\n",
    "print(\"The Time period is : \", T)\n",
    "print(\"The Rate of interest is : \", R)\n",
    "print(\"Total amount with principle and interest is : \", SI)\n"
   ]
  },
  {
   "cell_type": "code",
   "execution_count": null,
   "id": "5ee86436",
   "metadata": {},
   "outputs": [],
   "source": [
    "#Python program to find Compound interest\n",
    "\n",
    "P=float(input(\"Enter Principle amount : \"))\n",
    "T=float(input(\"Enter Time period : \"))\n",
    "R=float(input(\"Enter Rate of interest : \"))\n",
    "\n",
    "#Formula for Compound interest\n",
    "CI = P * (pow(1 + r / 100),t)\n",
    "\n",
    "#Print Values\n",
    "print(\"The Principle amount is : \", P)\n",
    "print(\"The Time period is : \", T)\n",
    "print(\"The Rate of interest is : \", R)\n",
    "print(\"Total amount with principle and interest is : \", CI)"
   ]
  },
  {
   "cell_type": "code",
   "execution_count": null,
   "id": "12c899a5",
   "metadata": {},
   "outputs": [],
   "source": []
  }
 ],
 "metadata": {
  "kernelspec": {
   "display_name": "Python 3 (ipykernel)",
   "language": "python",
   "name": "python3"
  },
  "language_info": {
   "codemirror_mode": {
    "name": "ipython",
    "version": 3
   },
   "file_extension": ".py",
   "mimetype": "text/x-python",
   "name": "python",
   "nbconvert_exporter": "python",
   "pygments_lexer": "ipython3",
   "version": "3.9.12"
  }
 },
 "nbformat": 4,
 "nbformat_minor": 5
}
